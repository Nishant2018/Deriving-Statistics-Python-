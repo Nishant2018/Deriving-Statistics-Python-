{
 "cells": [
  {
   "cell_type": "markdown",
   "id": "8dc9ded3",
   "metadata": {
    "papermill": {
     "duration": 0.009661,
     "end_time": "2024-05-23T22:05:00.387894",
     "exception": false,
     "start_time": "2024-05-23T22:05:00.378233",
     "status": "completed"
    },
    "tags": []
   },
   "source": [
    "<div style=\"color:white; background-color:#5642C5; padding: 10px; border-radius: 15px; font-size: 150%; font-family: Verdana; text-align:center; -webkit-text-stroke-width: 1px; -webkit-text-stroke-color: black; text-shadow: 2px 2px 4px rgba(0, 0, 0, 0.7);\"> 🔥🔥IMPORTING LIBRARIES🔥🔥 </div>"
   ]
  },
  {
   "cell_type": "code",
   "execution_count": 1,
   "id": "694bbce2",
   "metadata": {
    "_cell_guid": "b1076dfc-b9ad-4769-8c92-a6c4dae69d19",
    "_uuid": "8f2839f25d086af736a60e9eeb907d3b93b6e0e5",
    "execution": {
     "iopub.execute_input": "2024-05-23T22:05:00.405845Z",
     "iopub.status.busy": "2024-05-23T22:05:00.405402Z",
     "iopub.status.idle": "2024-05-23T22:05:01.373879Z",
     "shell.execute_reply": "2024-05-23T22:05:01.372518Z"
    },
    "papermill": {
     "duration": 0.981135,
     "end_time": "2024-05-23T22:05:01.377325",
     "exception": false,
     "start_time": "2024-05-23T22:05:00.396190",
     "status": "completed"
    },
    "tags": []
   },
   "outputs": [
    {
     "name": "stdout",
     "output_type": "stream",
     "text": [
      "/kaggle/input/raw-data-practice/rawdata.xlsx\n"
     ]
    }
   ],
   "source": [
    "import numpy as np \n",
    "import pandas as pd \n",
    "import os\n",
    "for dirname, _, filenames in os.walk('/kaggle/input'):\n",
    "    for filename in filenames:\n",
    "        print(os.path.join(dirname, filename))"
   ]
  },
  {
   "cell_type": "markdown",
   "id": "5620082c",
   "metadata": {
    "papermill": {
     "duration": 0.008249,
     "end_time": "2024-05-23T22:05:01.394323",
     "exception": false,
     "start_time": "2024-05-23T22:05:01.386074",
     "status": "completed"
    },
    "tags": []
   },
   "source": [
    "<div style=\"color:white; background-color:#5642C5; padding: 10px; border-radius: 15px; font-size: 150%; font-family: Verdana; text-align:center; -webkit-text-stroke-width: 1px; -webkit-text-stroke-color: black; text-shadow: 2px 2px 4px rgba(0, 0, 0, 0.7);\"> 🔥🔥TRAIN SAMPLE DATA🔥🔥 </div>"
   ]
  },
  {
   "cell_type": "code",
   "execution_count": 2,
   "id": "98e90434",
   "metadata": {
    "execution": {
     "iopub.execute_input": "2024-05-23T22:05:01.412520Z",
     "iopub.status.busy": "2024-05-23T22:05:01.411982Z",
     "iopub.status.idle": "2024-05-23T22:05:01.874993Z",
     "shell.execute_reply": "2024-05-23T22:05:01.873913Z"
    },
    "papermill": {
     "duration": 0.475378,
     "end_time": "2024-05-23T22:05:01.877909",
     "exception": false,
     "start_time": "2024-05-23T22:05:01.402531",
     "status": "completed"
    },
    "tags": []
   },
   "outputs": [],
   "source": [
    "raw_data = pd.read_excel(\"/kaggle/input/raw-data-practice/rawdata.xlsx\")"
   ]
  },
  {
   "cell_type": "code",
   "execution_count": 3,
   "id": "ab67288c",
   "metadata": {
    "execution": {
     "iopub.execute_input": "2024-05-23T22:05:01.896108Z",
     "iopub.status.busy": "2024-05-23T22:05:01.895510Z",
     "iopub.status.idle": "2024-05-23T22:05:02.035037Z",
     "shell.execute_reply": "2024-05-23T22:05:02.033544Z"
    },
    "papermill": {
     "duration": 0.151807,
     "end_time": "2024-05-23T22:05:02.037866",
     "exception": false,
     "start_time": "2024-05-23T22:05:01.886059",
     "status": "completed"
    },
    "tags": []
   },
   "outputs": [
    {
     "name": "stdout",
     "output_type": "stream",
     "text": [
      "Data Loaded\n"
     ]
    },
    {
     "data": {
      "text/html": [
       "<style type=\"text/css\">\n",
       "#T_2ef5a_row0_col0, #T_2ef5a_row0_col1, #T_2ef5a_row0_col2, #T_2ef5a_row0_col3, #T_2ef5a_row0_col4, #T_2ef5a_row0_col5, #T_2ef5a_row0_col6, #T_2ef5a_row0_col7, #T_2ef5a_row1_col0, #T_2ef5a_row1_col1, #T_2ef5a_row1_col2, #T_2ef5a_row1_col3, #T_2ef5a_row1_col4, #T_2ef5a_row1_col5, #T_2ef5a_row1_col6, #T_2ef5a_row1_col7, #T_2ef5a_row2_col0, #T_2ef5a_row2_col1, #T_2ef5a_row2_col2, #T_2ef5a_row2_col3, #T_2ef5a_row2_col4, #T_2ef5a_row2_col5, #T_2ef5a_row2_col6, #T_2ef5a_row2_col7, #T_2ef5a_row3_col0, #T_2ef5a_row3_col1, #T_2ef5a_row3_col2, #T_2ef5a_row3_col3, #T_2ef5a_row3_col4, #T_2ef5a_row3_col5, #T_2ef5a_row3_col6, #T_2ef5a_row3_col7, #T_2ef5a_row4_col0, #T_2ef5a_row4_col1, #T_2ef5a_row4_col2, #T_2ef5a_row4_col3, #T_2ef5a_row4_col4, #T_2ef5a_row4_col5, #T_2ef5a_row4_col6, #T_2ef5a_row4_col7 {\n",
       "  background-color: #f9f9f9;\n",
       "  color: #4CAF50;\n",
       "  font-weight: bold;\n",
       "}\n",
       "</style>\n",
       "<table id=\"T_2ef5a\">\n",
       "  <thead>\n",
       "    <tr>\n",
       "      <th class=\"blank level0\" >&nbsp;</th>\n",
       "      <th id=\"T_2ef5a_level0_col0\" class=\"col_heading level0 col0\" >date</th>\n",
       "      <th id=\"T_2ef5a_level0_col1\" class=\"col_heading level0 col1\" >time</th>\n",
       "      <th id=\"T_2ef5a_level0_col2\" class=\"col_heading level0 col2\" >sensor</th>\n",
       "      <th id=\"T_2ef5a_level0_col3\" class=\"col_heading level0 col3\" >location</th>\n",
       "      <th id=\"T_2ef5a_level0_col4\" class=\"col_heading level0 col4\" >number</th>\n",
       "      <th id=\"T_2ef5a_level0_col5\" class=\"col_heading level0 col5\" >activity</th>\n",
       "      <th id=\"T_2ef5a_level0_col6\" class=\"col_heading level0 col6\" >position</th>\n",
       "      <th id=\"T_2ef5a_level0_col7\" class=\"col_heading level0 col7\" >location.1</th>\n",
       "    </tr>\n",
       "  </thead>\n",
       "  <tbody>\n",
       "    <tr>\n",
       "      <th id=\"T_2ef5a_level0_row0\" class=\"row_heading level0 row0\" >9</th>\n",
       "      <td id=\"T_2ef5a_row0_col0\" class=\"data row0 col0\" >2024-01-16 00:00:00</td>\n",
       "      <td id=\"T_2ef5a_row0_col1\" class=\"data row0 col1\" >11:26:20</td>\n",
       "      <td id=\"T_2ef5a_row0_col2\" class=\"data row0 col2\" >0.000000</td>\n",
       "      <td id=\"T_2ef5a_row0_col3\" class=\"data row0 col3\" >A10</td>\n",
       "      <td id=\"T_2ef5a_row0_col4\" class=\"data row0 col4\" >1</td>\n",
       "      <td id=\"T_2ef5a_row0_col5\" class=\"data row0 col5\" >picked</td>\n",
       "      <td id=\"T_2ef5a_row0_col6\" class=\"data row0 col6\" >inside</td>\n",
       "      <td id=\"T_2ef5a_row0_col7\" class=\"data row0 col7\" >A10</td>\n",
       "    </tr>\n",
       "    <tr>\n",
       "      <th id=\"T_2ef5a_level0_row1\" class=\"row_heading level0 row1\" >123</th>\n",
       "      <td id=\"T_2ef5a_row1_col0\" class=\"data row1 col0\" >2024-01-18 00:00:00</td>\n",
       "      <td id=\"T_2ef5a_row1_col1\" class=\"data row1 col1\" >14:28:20</td>\n",
       "      <td id=\"T_2ef5a_row1_col2\" class=\"data row1 col2\" >0.000000</td>\n",
       "      <td id=\"T_2ef5a_row1_col3\" class=\"data row1 col3\" >A4</td>\n",
       "      <td id=\"T_2ef5a_row1_col4\" class=\"data row1 col4\" >1</td>\n",
       "      <td id=\"T_2ef5a_row1_col5\" class=\"data row1 col5\" >picked</td>\n",
       "      <td id=\"T_2ef5a_row1_col6\" class=\"data row1 col6\" >inside</td>\n",
       "      <td id=\"T_2ef5a_row1_col7\" class=\"data row1 col7\" >A4</td>\n",
       "    </tr>\n",
       "    <tr>\n",
       "      <th id=\"T_2ef5a_level0_row2\" class=\"row_heading level0 row2\" >53</th>\n",
       "      <td id=\"T_2ef5a_row2_col0\" class=\"data row2 col0\" >2024-01-16 00:00:00</td>\n",
       "      <td id=\"T_2ef5a_row2_col1\" class=\"data row2 col1\" >00:57:20</td>\n",
       "      <td id=\"T_2ef5a_row2_col2\" class=\"data row2 col2\" >0.000000</td>\n",
       "      <td id=\"T_2ef5a_row2_col3\" class=\"data row2 col3\" >A26</td>\n",
       "      <td id=\"T_2ef5a_row2_col4\" class=\"data row2 col4\" >1</td>\n",
       "      <td id=\"T_2ef5a_row2_col5\" class=\"data row2 col5\" >picked</td>\n",
       "      <td id=\"T_2ef5a_row2_col6\" class=\"data row2 col6\" >inside</td>\n",
       "      <td id=\"T_2ef5a_row2_col7\" class=\"data row2 col7\" >A26</td>\n",
       "    </tr>\n",
       "    <tr>\n",
       "      <th id=\"T_2ef5a_level0_row3\" class=\"row_heading level0 row3\" >136</th>\n",
       "      <td id=\"T_2ef5a_row3_col0\" class=\"data row3 col0\" >2024-01-18 00:00:00</td>\n",
       "      <td id=\"T_2ef5a_row3_col1\" class=\"data row3 col1\" >16:42:00</td>\n",
       "      <td id=\"T_2ef5a_row3_col2\" class=\"data row3 col2\" >1.000000</td>\n",
       "      <td id=\"T_2ef5a_row3_col3\" class=\"data row3 col3\" >A17</td>\n",
       "      <td id=\"T_2ef5a_row3_col4\" class=\"data row3 col4\" >1</td>\n",
       "      <td id=\"T_2ef5a_row3_col5\" class=\"data row3 col5\" >placed</td>\n",
       "      <td id=\"T_2ef5a_row3_col6\" class=\"data row3 col6\" >inside</td>\n",
       "      <td id=\"T_2ef5a_row3_col7\" class=\"data row3 col7\" >A17</td>\n",
       "    </tr>\n",
       "    <tr>\n",
       "      <th id=\"T_2ef5a_level0_row4\" class=\"row_heading level0 row4\" >38</th>\n",
       "      <td id=\"T_2ef5a_row4_col0\" class=\"data row4 col0\" >2024-01-16 00:00:00</td>\n",
       "      <td id=\"T_2ef5a_row4_col1\" class=\"data row4 col1\" >00:35:20</td>\n",
       "      <td id=\"T_2ef5a_row4_col2\" class=\"data row4 col2\" >0.000000</td>\n",
       "      <td id=\"T_2ef5a_row4_col3\" class=\"data row4 col3\" >A11</td>\n",
       "      <td id=\"T_2ef5a_row4_col4\" class=\"data row4 col4\" >1</td>\n",
       "      <td id=\"T_2ef5a_row4_col5\" class=\"data row4 col5\" >picked</td>\n",
       "      <td id=\"T_2ef5a_row4_col6\" class=\"data row4 col6\" >inside</td>\n",
       "      <td id=\"T_2ef5a_row4_col7\" class=\"data row4 col7\" >A11</td>\n",
       "    </tr>\n",
       "  </tbody>\n",
       "</table>\n"
      ],
      "text/plain": [
       "<pandas.io.formats.style.Styler at 0x7a5f8e879ae0>"
      ]
     },
     "execution_count": 3,
     "metadata": {},
     "output_type": "execute_result"
    }
   ],
   "source": [
    "print(\"Data Loaded\")\n",
    "raw_data.sample(5).style.set_properties(**{'background-color': '#f9f9f9', 'color': '#4CAF50', 'font-weight': 'bold'})"
   ]
  },
  {
   "cell_type": "code",
   "execution_count": 4,
   "id": "8835ce51",
   "metadata": {
    "execution": {
     "iopub.execute_input": "2024-05-23T22:05:02.057699Z",
     "iopub.status.busy": "2024-05-23T22:05:02.056643Z",
     "iopub.status.idle": "2024-05-23T22:05:02.064118Z",
     "shell.execute_reply": "2024-05-23T22:05:02.063099Z"
    },
    "papermill": {
     "duration": 0.01975,
     "end_time": "2024-05-23T22:05:02.066520",
     "exception": false,
     "start_time": "2024-05-23T22:05:02.046770",
     "status": "completed"
    },
    "tags": []
   },
   "outputs": [
    {
     "data": {
      "text/plain": [
       "Index(['date', 'time', 'sensor', 'location', 'number', 'activity', 'position',\n",
       "       'location.1'],\n",
       "      dtype='object')"
      ]
     },
     "execution_count": 4,
     "metadata": {},
     "output_type": "execute_result"
    }
   ],
   "source": [
    "raw_data.columns"
   ]
  },
  {
   "cell_type": "code",
   "execution_count": 5,
   "id": "67324cda",
   "metadata": {
    "execution": {
     "iopub.execute_input": "2024-05-23T22:05:02.086240Z",
     "iopub.status.busy": "2024-05-23T22:05:02.085795Z",
     "iopub.status.idle": "2024-05-23T22:05:02.096497Z",
     "shell.execute_reply": "2024-05-23T22:05:02.095336Z"
    },
    "papermill": {
     "duration": 0.023911,
     "end_time": "2024-05-23T22:05:02.099098",
     "exception": false,
     "start_time": "2024-05-23T22:05:02.075187",
     "status": "completed"
    },
    "tags": []
   },
   "outputs": [],
   "source": [
    "# Convert 'date' column to datetime format\n",
    "raw_data['date'] = pd.to_datetime(raw_data['date'])"
   ]
  },
  {
   "cell_type": "code",
   "execution_count": 6,
   "id": "3bc460b0",
   "metadata": {
    "execution": {
     "iopub.execute_input": "2024-05-23T22:05:02.118283Z",
     "iopub.status.busy": "2024-05-23T22:05:02.117538Z",
     "iopub.status.idle": "2024-05-23T22:05:02.124511Z",
     "shell.execute_reply": "2024-05-23T22:05:02.123312Z"
    },
    "papermill": {
     "duration": 0.020042,
     "end_time": "2024-05-23T22:05:02.127818",
     "exception": false,
     "start_time": "2024-05-23T22:05:02.107776",
     "status": "completed"
    },
    "tags": []
   },
   "outputs": [
    {
     "name": "stdout",
     "output_type": "stream",
     "text": [
      "\n",
      "Data Types:\n",
      "date          datetime64[ns]\n",
      "time                  object\n",
      "sensor               float64\n",
      "location              object\n",
      "number                 int64\n",
      "activity              object\n",
      "position              object\n",
      "location.1            object\n",
      "dtype: object\n"
     ]
    }
   ],
   "source": [
    "# Check the data types\n",
    "print(\"\\nData Types:\")\n",
    "print(raw_data.dtypes)"
   ]
  },
  {
   "cell_type": "code",
   "execution_count": 7,
   "id": "8c121526",
   "metadata": {
    "execution": {
     "iopub.execute_input": "2024-05-23T22:05:02.147030Z",
     "iopub.status.busy": "2024-05-23T22:05:02.146625Z",
     "iopub.status.idle": "2024-05-23T22:05:02.152845Z",
     "shell.execute_reply": "2024-05-23T22:05:02.151683Z"
    },
    "papermill": {
     "duration": 0.018709,
     "end_time": "2024-05-23T22:05:02.155336",
     "exception": false,
     "start_time": "2024-05-23T22:05:02.136627",
     "status": "completed"
    },
    "tags": []
   },
   "outputs": [],
   "source": [
    "# Create a column for the assumed duration\n",
    "raw_data['duration'] = 1"
   ]
  },
  {
   "cell_type": "markdown",
   "id": "f011a7fc",
   "metadata": {
    "papermill": {
     "duration": 0.009361,
     "end_time": "2024-05-23T22:05:02.173453",
     "exception": false,
     "start_time": "2024-05-23T22:05:02.164092",
     "status": "completed"
    },
    "tags": []
   },
   "source": [
    "<div style=\"color:white; background-color:#5642C5; padding: 10px; border-radius: 15px; font-size: 150%; font-family: Verdana; text-align:center; -webkit-text-stroke-width: 1px; -webkit-text-stroke-color: black; text-shadow: 2px 2px 4px rgba(0, 0, 0, 0.7);\"> 🔥🔥Part-1🔥🔥 </div>"
   ]
  },
  {
   "cell_type": "code",
   "execution_count": 8,
   "id": "9fb95d5f",
   "metadata": {
    "execution": {
     "iopub.execute_input": "2024-05-23T22:05:02.192919Z",
     "iopub.status.busy": "2024-05-23T22:05:02.192015Z",
     "iopub.status.idle": "2024-05-23T22:05:02.218210Z",
     "shell.execute_reply": "2024-05-23T22:05:02.217157Z"
    },
    "papermill": {
     "duration": 0.039007,
     "end_time": "2024-05-23T22:05:02.221007",
     "exception": false,
     "start_time": "2024-05-23T22:05:02.182000",
     "status": "completed"
    },
    "tags": []
   },
   "outputs": [],
   "source": [
    "# Pivot table to sum durations for 'inside' and 'outside'\n",
    "duration_data = raw_data.pivot_table(index='date', columns='position', values='duration', aggfunc='sum', fill_value=0)"
   ]
  },
  {
   "cell_type": "code",
   "execution_count": 9,
   "id": "0de4b303",
   "metadata": {
    "execution": {
     "iopub.execute_input": "2024-05-23T22:05:02.240708Z",
     "iopub.status.busy": "2024-05-23T22:05:02.239721Z",
     "iopub.status.idle": "2024-05-23T22:05:02.246756Z",
     "shell.execute_reply": "2024-05-23T22:05:02.245520Z"
    },
    "papermill": {
     "duration": 0.019701,
     "end_time": "2024-05-23T22:05:02.249436",
     "exception": false,
     "start_time": "2024-05-23T22:05:02.229735",
     "status": "completed"
    },
    "tags": []
   },
   "outputs": [],
   "source": [
    "# Rename columns\n",
    "duration_data = duration_data.rename(columns={'inside': 'inside_duration', 'outside': 'outside_duration'})"
   ]
  },
  {
   "cell_type": "code",
   "execution_count": 10,
   "id": "a43d9348",
   "metadata": {
    "execution": {
     "iopub.execute_input": "2024-05-23T22:05:02.269936Z",
     "iopub.status.busy": "2024-05-23T22:05:02.268577Z",
     "iopub.status.idle": "2024-05-23T22:05:02.279892Z",
     "shell.execute_reply": "2024-05-23T22:05:02.278481Z"
    },
    "papermill": {
     "duration": 0.023914,
     "end_time": "2024-05-23T22:05:02.282480",
     "exception": false,
     "start_time": "2024-05-23T22:05:02.258566",
     "status": "completed"
    },
    "tags": []
   },
   "outputs": [
    {
     "name": "stdout",
     "output_type": "stream",
     "text": [
      "\n",
      "Duration Data:\n",
      "position    Inside  inside_duration  outside_duration\n",
      "date                                                 \n",
      "2024-01-16       2               78                 0\n",
      "2024-01-17       0               19                 0\n",
      "2024-01-18      13               59                 4\n"
     ]
    }
   ],
   "source": [
    "# Check intermediate duration_data\n",
    "print(\"\\nDuration Data:\")\n",
    "print(duration_data.head())"
   ]
  },
  {
   "cell_type": "markdown",
   "id": "643b1ada",
   "metadata": {
    "papermill": {
     "duration": 0.008483,
     "end_time": "2024-05-23T22:05:02.299801",
     "exception": false,
     "start_time": "2024-05-23T22:05:02.291318",
     "status": "completed"
    },
    "tags": []
   },
   "source": [
    "<div style=\"color:white; background-color:#5642C5; padding: 10px; border-radius: 15px; font-size: 150%; font-family: Verdana; text-align:center; -webkit-text-stroke-width: 1px; -webkit-text-stroke-color: black; text-shadow: 2px 2px 4px rgba(0, 0, 0, 0.7);\"> 🔥🔥Part-2🔥🔥 </div>"
   ]
  },
  {
   "cell_type": "code",
   "execution_count": 11,
   "id": "66ee1058",
   "metadata": {
    "execution": {
     "iopub.execute_input": "2024-05-23T22:05:02.319443Z",
     "iopub.status.busy": "2024-05-23T22:05:02.319062Z",
     "iopub.status.idle": "2024-05-23T22:05:02.328282Z",
     "shell.execute_reply": "2024-05-23T22:05:02.327275Z"
    },
    "papermill": {
     "duration": 0.02181,
     "end_time": "2024-05-23T22:05:02.330553",
     "exception": false,
     "start_time": "2024-05-23T22:05:02.308743",
     "status": "completed"
    },
    "tags": []
   },
   "outputs": [],
   "source": [
    "# Step 3: Count the number of 'picking' and 'placing' activities for each date\n",
    "activity_count = raw_data.groupby(['date', 'activity']).size().unstack(fill_value=0)"
   ]
  },
  {
   "cell_type": "code",
   "execution_count": 12,
   "id": "9bcd15e3",
   "metadata": {
    "execution": {
     "iopub.execute_input": "2024-05-23T22:05:02.349986Z",
     "iopub.status.busy": "2024-05-23T22:05:02.349528Z",
     "iopub.status.idle": "2024-05-23T22:05:02.355770Z",
     "shell.execute_reply": "2024-05-23T22:05:02.354528Z"
    },
    "papermill": {
     "duration": 0.019032,
     "end_time": "2024-05-23T22:05:02.358320",
     "exception": false,
     "start_time": "2024-05-23T22:05:02.339288",
     "status": "completed"
    },
    "tags": []
   },
   "outputs": [],
   "source": [
    "# Rename columns\n",
    "activity_count = activity_count.rename(columns={'picking': 'pick_activities', 'placing': 'place_activities'})"
   ]
  },
  {
   "cell_type": "code",
   "execution_count": 13,
   "id": "378c7be6",
   "metadata": {
    "execution": {
     "iopub.execute_input": "2024-05-23T22:05:02.378567Z",
     "iopub.status.busy": "2024-05-23T22:05:02.378182Z",
     "iopub.status.idle": "2024-05-23T22:05:02.386243Z",
     "shell.execute_reply": "2024-05-23T22:05:02.384969Z"
    },
    "papermill": {
     "duration": 0.021392,
     "end_time": "2024-05-23T22:05:02.388949",
     "exception": false,
     "start_time": "2024-05-23T22:05:02.367557",
     "status": "completed"
    },
    "tags": []
   },
   "outputs": [
    {
     "name": "stdout",
     "output_type": "stream",
     "text": [
      "\n",
      "Activity Count Data:\n",
      "activity    picked  placed\n",
      "date                      \n",
      "2024-01-16      40      40\n",
      "2024-01-17      10       9\n",
      "2024-01-18      37      39\n"
     ]
    }
   ],
   "source": [
    "# Check intermediate activity_count\n",
    "print(\"\\nActivity Count Data:\")\n",
    "print(activity_count.head())"
   ]
  },
  {
   "cell_type": "markdown",
   "id": "1f41e9e0",
   "metadata": {
    "papermill": {
     "duration": 0.008771,
     "end_time": "2024-05-23T22:05:02.407051",
     "exception": false,
     "start_time": "2024-05-23T22:05:02.398280",
     "status": "completed"
    },
    "tags": []
   },
   "source": [
    "<div style=\"color:white; background-color:#5642C5; padding: 10px; border-radius: 15px; font-size: 150%; font-family: Verdana; text-align:center; -webkit-text-stroke-width: 1px; -webkit-text-stroke-color: black; text-shadow: 2px 2px 4px rgba(0, 0, 0, 0.7);\"> 🔥🔥Data Merge🔥🔥 </div>"
   ]
  },
  {
   "cell_type": "code",
   "execution_count": 14,
   "id": "10877dff",
   "metadata": {
    "execution": {
     "iopub.execute_input": "2024-05-23T22:05:02.427087Z",
     "iopub.status.busy": "2024-05-23T22:05:02.426189Z",
     "iopub.status.idle": "2024-05-23T22:05:02.432872Z",
     "shell.execute_reply": "2024-05-23T22:05:02.431693Z"
    },
    "papermill": {
     "duration": 0.019328,
     "end_time": "2024-05-23T22:05:02.435278",
     "exception": false,
     "start_time": "2024-05-23T22:05:02.415950",
     "status": "completed"
    },
    "tags": []
   },
   "outputs": [],
   "source": [
    "# Step 4: Merge duration and activity count data\n",
    "output_data = pd.concat([duration_data, activity_count], axis=1).fillna(0)"
   ]
  },
  {
   "cell_type": "code",
   "execution_count": 15,
   "id": "589a0682",
   "metadata": {
    "execution": {
     "iopub.execute_input": "2024-05-23T22:05:02.454961Z",
     "iopub.status.busy": "2024-05-23T22:05:02.454504Z",
     "iopub.status.idle": "2024-05-23T22:05:02.461457Z",
     "shell.execute_reply": "2024-05-23T22:05:02.460385Z"
    },
    "papermill": {
     "duration": 0.019896,
     "end_time": "2024-05-23T22:05:02.464022",
     "exception": false,
     "start_time": "2024-05-23T22:05:02.444126",
     "status": "completed"
    },
    "tags": []
   },
   "outputs": [],
   "source": [
    "# Ensure all required columns are present\n",
    "for column in ['inside_duration', 'outside_duration', 'pick_activities', 'place_activities']:\n",
    "    if column not in output_data:\n",
    "        output_data[column] = 0"
   ]
  },
  {
   "cell_type": "code",
   "execution_count": 16,
   "id": "734a4d51",
   "metadata": {
    "execution": {
     "iopub.execute_input": "2024-05-23T22:05:02.484359Z",
     "iopub.status.busy": "2024-05-23T22:05:02.483373Z",
     "iopub.status.idle": "2024-05-23T22:05:02.490851Z",
     "shell.execute_reply": "2024-05-23T22:05:02.489828Z"
    },
    "papermill": {
     "duration": 0.020385,
     "end_time": "2024-05-23T22:05:02.493300",
     "exception": false,
     "start_time": "2024-05-23T22:05:02.472915",
     "status": "completed"
    },
    "tags": []
   },
   "outputs": [],
   "source": [
    "# Step 5: Reset index to have 'date' as a column and select only required columns\n",
    "output_data = output_data.reset_index()\n",
    "output_data = output_data[['date', 'pick_activities', 'place_activities', 'inside_duration', 'outside_duration']]"
   ]
  },
  {
   "cell_type": "code",
   "execution_count": 17,
   "id": "10729dab",
   "metadata": {
    "execution": {
     "iopub.execute_input": "2024-05-23T22:05:02.512885Z",
     "iopub.status.busy": "2024-05-23T22:05:02.512475Z",
     "iopub.status.idle": "2024-05-23T22:05:02.520943Z",
     "shell.execute_reply": "2024-05-23T22:05:02.519679Z"
    },
    "papermill": {
     "duration": 0.021231,
     "end_time": "2024-05-23T22:05:02.523434",
     "exception": false,
     "start_time": "2024-05-23T22:05:02.502203",
     "status": "completed"
    },
    "tags": []
   },
   "outputs": [
    {
     "name": "stdout",
     "output_type": "stream",
     "text": [
      "\n",
      "Final Output Data:\n",
      "        date  pick_activities  place_activities  inside_duration  \\\n",
      "0 2024-01-16                0                 0               78   \n",
      "1 2024-01-17                0                 0               19   \n",
      "2 2024-01-18                0                 0               59   \n",
      "\n",
      "   outside_duration  \n",
      "0                 0  \n",
      "1                 0  \n",
      "2                 4  \n"
     ]
    }
   ],
   "source": [
    "# Check final output data\n",
    "print(\"\\nFinal Output Data:\")\n",
    "print(output_data.head())"
   ]
  },
  {
   "cell_type": "markdown",
   "id": "7b978a87",
   "metadata": {
    "papermill": {
     "duration": 0.00865,
     "end_time": "2024-05-23T22:05:02.541328",
     "exception": false,
     "start_time": "2024-05-23T22:05:02.532678",
     "status": "completed"
    },
    "tags": []
   },
   "source": [
    "<div style=\"color:white; background-color:#5642C5; padding: 10px; border-radius: 15px; font-size: 150%; font-family: Verdana; text-align:center; -webkit-text-stroke-width: 1px; -webkit-text-stroke-color: black; text-shadow: 2px 2px 4px rgba(0, 0, 0, 0.7);\"> 🔥🔥File Saving🔥🔥 </div>"
   ]
  },
  {
   "cell_type": "code",
   "execution_count": 18,
   "id": "1e982f7f",
   "metadata": {
    "execution": {
     "iopub.execute_input": "2024-05-23T22:05:02.560892Z",
     "iopub.status.busy": "2024-05-23T22:05:02.560333Z",
     "iopub.status.idle": "2024-05-23T22:05:02.571176Z",
     "shell.execute_reply": "2024-05-23T22:05:02.569919Z"
    },
    "papermill": {
     "duration": 0.023945,
     "end_time": "2024-05-23T22:05:02.574058",
     "exception": false,
     "start_time": "2024-05-23T22:05:02.550113",
     "status": "completed"
    },
    "tags": []
   },
   "outputs": [],
   "source": [
    "# Write the processed data to a CSV file\n",
    "output_data.to_csv(\"output.csv\", index=False)"
   ]
  }
 ],
 "metadata": {
  "kaggle": {
   "accelerator": "none",
   "dataSources": [
    {
     "datasetId": 5072138,
     "sourceId": 8499573,
     "sourceType": "datasetVersion"
    }
   ],
   "dockerImageVersionId": 30698,
   "isGpuEnabled": false,
   "isInternetEnabled": true,
   "language": "python",
   "sourceType": "notebook"
  },
  "kernelspec": {
   "display_name": "Python 3",
   "language": "python",
   "name": "python3"
  },
  "language_info": {
   "codemirror_mode": {
    "name": "ipython",
    "version": 3
   },
   "file_extension": ".py",
   "mimetype": "text/x-python",
   "name": "python",
   "nbconvert_exporter": "python",
   "pygments_lexer": "ipython3",
   "version": "3.10.13"
  },
  "papermill": {
   "default_parameters": {},
   "duration": 6.266192,
   "end_time": "2024-05-23T22:05:03.104985",
   "environment_variables": {},
   "exception": null,
   "input_path": "__notebook__.ipynb",
   "output_path": "__notebook__.ipynb",
   "parameters": {},
   "start_time": "2024-05-23T22:04:56.838793",
   "version": "2.5.0"
  }
 },
 "nbformat": 4,
 "nbformat_minor": 5
}
